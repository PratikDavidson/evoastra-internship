{
 "cells": [
  {
   "cell_type": "markdown",
   "id": "d552a2b2",
   "metadata": {},
   "source": [
    "#  Day 1 - Web Scraping\n",
    "\n",
    "## Task: Scraping Tata Cars Data from AckoDrive (https://ackodrive.com/)"
   ]
  },
  {
   "cell_type": "code",
   "execution_count": 1,
   "id": "cf615096",
   "metadata": {},
   "outputs": [],
   "source": [
    "## Uncomment the below lines to install the required packages for the task\n",
    "\n",
    "# !pip install requests\n",
    "# !pip install beautifulsoup4\n",
    "# !pip install pandas"
   ]
  },
  {
   "cell_type": "markdown",
   "id": "def0a14f",
   "metadata": {},
   "source": [
    "## Import required libraries:"
   ]
  },
  {
   "cell_type": "code",
   "execution_count": 2,
   "id": "77fe2c7b",
   "metadata": {},
   "outputs": [],
   "source": [
    "import requests\n",
    "from bs4 import BeautifulSoup\n",
    "import pandas as pd"
   ]
  },
  {
   "cell_type": "markdown",
   "id": "4bfa0c31",
   "metadata": {},
   "source": [
    "## Assign target URL:"
   ]
  },
  {
   "cell_type": "code",
   "execution_count": 3,
   "id": "c18d53b9",
   "metadata": {},
   "outputs": [],
   "source": [
    "URL = \"https://ackodrive.com/collection/tata-cars/\""
   ]
  },
  {
   "cell_type": "markdown",
   "id": "815a7642",
   "metadata": {},
   "source": [
    "## Make GET Request:"
   ]
  },
  {
   "cell_type": "code",
   "execution_count": 4,
   "id": "c5d93956",
   "metadata": {},
   "outputs": [],
   "source": [
    "response = requests.get(URL)"
   ]
  },
  {
   "cell_type": "markdown",
   "id": "e14f5adf",
   "metadata": {},
   "source": [
    "## Check status code:"
   ]
  },
  {
   "cell_type": "code",
   "execution_count": 5,
   "id": "d6b54c2e",
   "metadata": {},
   "outputs": [
    {
     "data": {
      "text/plain": [
       "200"
      ]
     },
     "execution_count": 5,
     "metadata": {},
     "output_type": "execute_result"
    }
   ],
   "source": [
    "response.status_code"
   ]
  },
  {
   "cell_type": "markdown",
   "id": "36135ac9",
   "metadata": {},
   "source": [
    "## Parse the HTML content of the response:"
   ]
  },
  {
   "cell_type": "code",
   "execution_count": 6,
   "id": "21628131",
   "metadata": {},
   "outputs": [],
   "source": [
    "soup = BeautifulSoup(response.content, 'html.parser')"
   ]
  },
  {
   "cell_type": "markdown",
   "id": "3d5460f7",
   "metadata": {},
   "source": [
    "## Find all the car listings:"
   ]
  },
  {
   "cell_type": "code",
   "execution_count": 7,
   "id": "f5912e90",
   "metadata": {},
   "outputs": [],
   "source": [
    "car_list = soup.find_all('div',{'data-testid':'listingcardesktop'})"
   ]
  },
  {
   "cell_type": "markdown",
   "id": "ada8a1fc",
   "metadata": {},
   "source": [
    "## Check the count of cars in the listing:"
   ]
  },
  {
   "cell_type": "code",
   "execution_count": 8,
   "id": "72f3bca5",
   "metadata": {},
   "outputs": [
    {
     "data": {
      "text/plain": [
       "16"
      ]
     },
     "execution_count": 8,
     "metadata": {},
     "output_type": "execute_result"
    }
   ],
   "source": [
    "len(car_list)"
   ]
  },
  {
   "cell_type": "markdown",
   "id": "37cd58c2",
   "metadata": {},
   "source": [
    "## Analyze single car listing html data:"
   ]
  },
  {
   "cell_type": "code",
   "execution_count": 9,
   "id": "19d75c14",
   "metadata": {},
   "outputs": [
    {
     "name": "stdout",
     "output_type": "stream",
     "text": [
      "<div class=\"styles__Wrapper-sc-ad1b3a08-0 iTGjuL\" data-testid=\"listingcardesktop\">\n",
      " <div class=\"styles__ModelSection-sc-ad1b3a08-1 cZBYsU\">\n",
      "  <div class=\"styles__ModelDetails-sc-a6403e05-0 edzyap\">\n",
      "   <a class=\"styles__AnchorTagWithoutUnderline-sc-a6403e05-33 bXIogR\" data-testid=\"car_model_brand_title\" href=\"https://ackodrive.com/cars/tata-harrier-ev/\">\n",
      "    <div class=\"styles__ModelStatusWrapper-sc-4db1e074-14 brdlRa\">\n",
      "     <h2 class=\"styles__ModelTitle-sc-a6403e05-4 ARHdK\">\n",
      "      <span class=\"styles__Make-sc-a6403e05-5 etWSJY\">\n",
      "       Tata\n",
      "      </span>\n",
      "      <span class=\"styles__ModelName-sc-a6403e05-6 hGuUnc\">\n",
      "       Harrier EV\n",
      "      </span>\n",
      "     </h2>\n",
      "    </div>\n",
      "   </a>\n",
      "   <div class=\"styles__ModelInfo-sc-a6403e05-8 eNUijV\">\n",
      "    <p class=\"styles__ParaWithoutMargins-sc-a6403e05-34 iAPjDz\" data-testid=\"car_model_body_type\">\n",
      "     SUV\n",
      "    </p>\n",
      "    <div class=\"styles__Dot-sc-a6403e05-9 cNKvzK\">\n",
      "    </div>\n",
      "    <p class=\"styles__ParaWithoutMargins-sc-a6403e05-34 iAPjDz\" data-testid=\"car_model_seat\">\n",
      "     5 Seater\n",
      "    </p>\n",
      "    <div class=\"styles__Dot-sc-a6403e05-9 cNKvzK\">\n",
      "    </div>\n",
      "    <p class=\"styles__ParaWithoutMargins-sc-a6403e05-34 iAPjDz\" data-testid=\"car_model_variants\">\n",
      "     1/16 variants\n",
      "    </p>\n",
      "   </div>\n",
      "   <div class=\"styles__DesktopMarginWrapper-sc-ad1b3a08-15 gJFEbs\">\n",
      "    <div class=\"styles__ComingSoonWrapper-sc-ad1b3a08-14 bmkyiF\">\n",
      "    </div>\n",
      "   </div>\n",
      "  </div>\n",
      "  <a class=\"styles__AnchorTagWithoutUnderline-sc-a6403e05-33 bXIogR\" data-testid=\"car_image\" href=\"https://ackodrive.com/cars/tata-harrier-ev/\">\n",
      "   <div class=\"styles__ImageWrapper-sc-ad1b3a08-2 jbtjPF\">\n",
      "    <span style=\"box-sizing:border-box;display:block;overflow:hidden;width:initial;height:initial;background:none;opacity:1;border:0;margin:0;padding:0;position:absolute;top:0;left:0;bottom:0;right:0\">\n",
      "     <img alt=\"Tata Harrier EV\" data-nimg=\"fill\" decoding=\"async\" src=\"data:image/gif;base64,R0lGODlhAQABAIAAAAAAAP///yH5BAEAAAAALAAAAAABAAEAAAIBRAA7\" style=\"position:absolute;top:0;left:0;bottom:0;right:0;box-sizing:border-box;padding:0;border:none;margin:auto;display:block;width:0;height:0;min-width:100%;max-width:100%;min-height:100%;max-height:100%;object-fit:scale-down;object-position:center\"/>\n",
      "     <noscript>\n",
      "      <img alt=\"Tata Harrier EV\" data-nimg=\"fill\" decoding=\"async\" loading=\"lazy\" sizes=\"100vw\" src=\"/_next/image/?url=https%3A%2F%2Fackodrive-assets.ackodrive.com%2Fmedia%2Ftest_JmGYHsL.png&amp;w=3840&amp;q=75\" srcset=\"/_next/image/?url=https%3A%2F%2Fackodrive-assets.ackodrive.com%2Fmedia%2Ftest_JmGYHsL.png&amp;w=640&amp;q=75 640w, /_next/image/?url=https%3A%2F%2Fackodrive-assets.ackodrive.com%2Fmedia%2Ftest_JmGYHsL.png&amp;w=750&amp;q=75 750w, /_next/image/?url=https%3A%2F%2Fackodrive-assets.ackodrive.com%2Fmedia%2Ftest_JmGYHsL.png&amp;w=828&amp;q=75 828w, /_next/image/?url=https%3A%2F%2Fackodrive-assets.ackodrive.com%2Fmedia%2Ftest_JmGYHsL.png&amp;w=1080&amp;q=75 1080w, /_next/image/?url=https%3A%2F%2Fackodrive-assets.ackodrive.com%2Fmedia%2Ftest_JmGYHsL.png&amp;w=1200&amp;q=75 1200w, /_next/image/?url=https%3A%2F%2Fackodrive-assets.ackodrive.com%2Fmedia%2Ftest_JmGYHsL.png&amp;w=1920&amp;q=75 1920w, /_next/image/?url=https%3A%2F%2Fackodrive-assets.ackodrive.com%2Fmedia%2Ftest_JmGYHsL.png&amp;w=2048&amp;q=75 2048w, /_next/image/?url=https%3A%2F%2Fackodrive-assets.ackodrive.com%2Fmedia%2Ftest_JmGYHsL.png&amp;w=3840&amp;q=75 3840w\" style=\"position:absolute;top:0;left:0;bottom:0;right:0;box-sizing:border-box;padding:0;border:none;margin:auto;display:block;width:0;height:0;min-width:100%;max-width:100%;min-height:100%;max-height:100%;object-fit:scale-down;object-position:center\"/>\n",
      "     </noscript>\n",
      "    </span>\n",
      "   </div>\n",
      "  </a>\n",
      "  <div class=\"styles__Actions-sc-ad1b3a08-3 gaGbE\">\n",
      "   <div class=\"styles__Action-sc-ad1b3a08-4 eHEQrJ\" data-testid=\"nextVariant\">\n",
      "    <span class=\"styles__ActionText-sc-ad1b3a08-5 iRdXro\">\n",
      "     Next variant\n",
      "    </span>\n",
      "    <svg fill=\"none\" height=\"16\" width=\"16\" xmlns=\"http://www.w3.org/2000/svg\">\n",
      "     <path d=\"M6.715 12.314a.494.494 0 0 1-.7-.696l3.594-3.615-3.595-3.62a.494.494 0 0 1 .7-.696l3.587 3.611a1 1 0 0 1 0 1.41l-3.586 3.606Z\" fill=\"#B3B3B9\">\n",
      "     </path>\n",
      "    </svg>\n",
      "   </div>\n",
      "  </div>\n",
      " </div>\n",
      " <div class=\"styles__VariantDetails-sc-a6403e05-11 styles__DesktopVariantDetails-sc-ad1b3a08-9 eTQTvB\">\n",
      "  <a class=\"styles__AnchorTagWithoutUnderline-sc-a6403e05-33 bXIogR\" data-testid=\"listing-car-variant-title\" href=\"https://ackodrive.com/cars/tata-harrier-ev-adventure-65-acfc/\">\n",
      "   <h3 class=\"styles__VariantTitle-sc-a6403e05-10 fXmXH\">\n",
      "    Adventure 65 ACFC\n",
      "   </h3>\n",
      "  </a>\n",
      "  <div class=\"styles__VariantInfo-sc-a6403e05-12 bkhKsh\">\n",
      "   <p class=\"styles__ParaWithoutMargins-sc-a6403e05-34 iAPjDz\" data-testid=\"car_variant_fuel_type\">\n",
      "    Electric\n",
      "   </p>\n",
      "   <div class=\"styles__Dot-sc-a6403e05-9 cNKvzK\">\n",
      "   </div>\n",
      "   <p class=\"styles__ParaWithoutMargins-sc-a6403e05-34 iAPjDz\" data-testid=\"car_variant_transmission\">\n",
      "    Automatic\n",
      "   </p>\n",
      "   <div class=\"styles__Dot-sc-a6403e05-9 cNKvzK\">\n",
      "   </div>\n",
      "   <p class=\"styles__ParaWithoutMargins-sc-a6403e05-34 iAPjDz\">\n",
      "    Available in 2 colors\n",
      "   </p>\n",
      "  </div>\n",
      "  <div class=\"styles__VariantColors-sc-a6403e05-13 ZeCtL\">\n",
      "   <div class=\"styles__VariantColor-sc-a6403e05-14 jrWjwe\">\n",
      "   </div>\n",
      "   <div class=\"styles__VariantColor-sc-a6403e05-14 dDFLoT\">\n",
      "   </div>\n",
      "  </div>\n",
      "  <div class=\"styles__VariantPrice-sc-a6403e05-15 grIRDI\">\n",
      "   <div class=\"styles__PriceLabel-sc-a6403e05-16 jGdxDf\">\n",
      "    <div>\n",
      "     On-road price\n",
      "    </div>\n",
      "    <div class=\"styles__CityName-sc-a6403e05-17 fZrHFu\">\n",
      "     in Delhi\n",
      "    </div>\n",
      "   </div>\n",
      "   <div class=\"styles__Price-sc-a6403e05-18 bsWAfs\" data-testid=\"car_price\">\n",
      "    ₹\n",
      "    <!-- -->\n",
      "    23.16 L\n",
      "   </div>\n",
      "   <div class=\"styles__Ribbon-sc-a6403e05-23 iVVVHZ\">\n",
      "    <div class=\"styles__DeliveredBy-sc-a6403e05-28 hotCUl\">\n",
      "     Get it by\n",
      "    </div>\n",
      "    <div class=\"styles__DateText-sc-a6403e05-31 jMWUPS\">\n",
      "     24 Aug'25\n",
      "    </div>\n",
      "   </div>\n",
      "  </div>\n",
      " </div>\n",
      " <div>\n",
      "  <div class=\"styles__CTAWrapper-sc-ad1b3a08-10 CyhxW\">\n",
      "   <a class=\"styles__LoginCTA-sc-ad1b3a08-12 hZsYIG\" data-testid=\"login_cta\" href=\"https://accounts.acko.com/v1/signin?client_id=ackodrive_webapp&amp;redirect_uri=https://ackodrive.com/auth/&amp;state=%7B%22redirectUrl%22%3A%22https%3A%2F%2Fackodrive.com%2Fcollection%2Ftata-cars%2F%22%7D&amp;response_type=code&amp;identity_type=d2c&amp;scope=offline_access&amp;realm=acko&amp;tracker_identifier=&amp;event_params=%7B%7D\">\n",
      "    Login to save\n",
      "    <div>\n",
      "     upto ₹\n",
      "     <!-- -->\n",
      "     XX,428\n",
      "    </div>\n",
      "   </a>\n",
      "   <a class=\"styles__CTA-sc-ad1b3a08-11 dlYXpI\" href=\"https://ackodrive.com/cars/tata-harrier-ev-adventure-65-acfc/\">\n",
      "    See details\n",
      "   </a>\n",
      "  </div>\n",
      " </div>\n",
      "</div>\n",
      "\n"
     ]
    }
   ],
   "source": [
    "print(car_list[13].prettify())"
   ]
  },
  {
   "cell_type": "markdown",
   "id": "3260975c",
   "metadata": {},
   "source": [
    "## Initialize data structure for car information:"
   ]
  },
  {
   "cell_type": "code",
   "execution_count": 32,
   "id": "846d9eb6",
   "metadata": {},
   "outputs": [],
   "source": [
    "car_data = {\n",
    "    \"brand\": [],\n",
    "    \"model\": [],\n",
    "    \"body_type\": [],\n",
    "    \"model_seat\": [],\n",
    "    \"model_variant\": [],\n",
    "    \"price\": [],\n",
    "    \"fuel_type\": [],\n",
    "    \"transmission_type\": [],\n",
    "    \"colour_variants\": [],\n",
    "    \"location\": []\n",
    "}"
   ]
  },
  {
   "cell_type": "markdown",
   "id": "bc405fcb",
   "metadata": {},
   "source": [
    "## Extract data from each car listing:"
   ]
  },
  {
   "cell_type": "code",
   "execution_count": 33,
   "id": "45ca6274",
   "metadata": {},
   "outputs": [],
   "source": [
    "for car in car_list:\n",
    "    car_data[\"brand\"].append(car.find(\"h2\").find('span', {\"class\": \"styles__Make-sc-a6403e05-5 etWSJY\"}).get_text())\n",
    "    car_data[\"model\"].append(car.find(\"h2\").find('span', {\"class\": \"styles__ModelName-sc-a6403e05-6 hGuUnc\"}).get_text())\n",
    "    car_data[\"body_type\"].append(car.find(\"p\", {\"data-testid\": \"car_model_body_type\"}).get_text())\n",
    "    car_data[\"model_seat\"].append(car.find(\"p\", {\"data-testid\": \"car_model_seat\"}).get_text())\n",
    "    car_data[\"model_variant\"].append(car.find(\"h3\").get_text())\n",
    "    car_data[\"price\"].append(car.find(\"div\", {\"class\": \"styles__Price-sc-a6403e05-18 bsWAfs\"}).get_text())\n",
    "    car_data[\"fuel_type\"].append(car.find(\"p\", {\"data-testid\": \"car_variant_fuel_type\"}).get_text())\n",
    "    car_data[\"transmission_type\"].append(car.find(\"p\", {\"data-testid\": \"car_variant_transmission\"}).get_text())\n",
    "    car_data[\"colour_variants\"].append(car.find_all(\"p\", {\"class\": \"styles__ParaWithoutMargins-sc-a6403e05-34 iAPjDz\"})[5].get_text())\n",
    "    car_data[\"location\"].append(car.find_all(\"div\", {\"class\": \"styles__CityName-sc-a6403e05-17 fZrHFu\"})[0].get_text().split()[1])"
   ]
  },
  {
   "cell_type": "markdown",
   "id": "f83ed5a5",
   "metadata": {},
   "source": [
    "## Convert the car data into dataframe:"
   ]
  },
  {
   "cell_type": "code",
   "execution_count": 34,
   "id": "76ba1ac2",
   "metadata": {},
   "outputs": [
    {
     "data": {
      "text/html": [
       "<div>\n",
       "<style scoped>\n",
       "    .dataframe tbody tr th:only-of-type {\n",
       "        vertical-align: middle;\n",
       "    }\n",
       "\n",
       "    .dataframe tbody tr th {\n",
       "        vertical-align: top;\n",
       "    }\n",
       "\n",
       "    .dataframe thead th {\n",
       "        text-align: right;\n",
       "    }\n",
       "</style>\n",
       "<table border=\"1\" class=\"dataframe\">\n",
       "  <thead>\n",
       "    <tr style=\"text-align: right;\">\n",
       "      <th></th>\n",
       "      <th>brand</th>\n",
       "      <th>model</th>\n",
       "      <th>body_type</th>\n",
       "      <th>model_seat</th>\n",
       "      <th>model_variant</th>\n",
       "      <th>price</th>\n",
       "      <th>fuel_type</th>\n",
       "      <th>transmission_type</th>\n",
       "      <th>colour_variants</th>\n",
       "      <th>location</th>\n",
       "    </tr>\n",
       "  </thead>\n",
       "  <tbody>\n",
       "    <tr>\n",
       "      <th>0</th>\n",
       "      <td>Tata</td>\n",
       "      <td>Punch</td>\n",
       "      <td>SUV</td>\n",
       "      <td>5 Seater</td>\n",
       "      <td>Pure</td>\n",
       "      <td>₹6.71 L</td>\n",
       "      <td>Petrol</td>\n",
       "      <td>Manual</td>\n",
       "      <td>Available in 2 colors</td>\n",
       "      <td>Delhi</td>\n",
       "    </tr>\n",
       "    <tr>\n",
       "      <th>1</th>\n",
       "      <td>Tata</td>\n",
       "      <td>Nexon</td>\n",
       "      <td>SUV</td>\n",
       "      <td>5 Seater</td>\n",
       "      <td>1.2 Smart Plus</td>\n",
       "      <td>₹10.02 L</td>\n",
       "      <td>Petrol</td>\n",
       "      <td>Manual</td>\n",
       "      <td>Available in 4 colors</td>\n",
       "      <td>Delhi</td>\n",
       "    </tr>\n",
       "    <tr>\n",
       "      <th>2</th>\n",
       "      <td>Tata</td>\n",
       "      <td>Curvv EV</td>\n",
       "      <td>SUV</td>\n",
       "      <td>5 Seater</td>\n",
       "      <td>Accomplished 55</td>\n",
       "      <td>₹20.28 L</td>\n",
       "      <td>Electric</td>\n",
       "      <td>Automatic</td>\n",
       "      <td>Available in 4 colors</td>\n",
       "      <td>Delhi</td>\n",
       "    </tr>\n",
       "    <tr>\n",
       "      <th>3</th>\n",
       "      <td>Tata</td>\n",
       "      <td>Nexon EV</td>\n",
       "      <td>SUV</td>\n",
       "      <td>5 Seater</td>\n",
       "      <td>Empowered Plus 45</td>\n",
       "      <td>₹17.94 L</td>\n",
       "      <td>Electric</td>\n",
       "      <td>Automatic</td>\n",
       "      <td>Available in 4 colors</td>\n",
       "      <td>Delhi</td>\n",
       "    </tr>\n",
       "    <tr>\n",
       "      <th>4</th>\n",
       "      <td>Tata</td>\n",
       "      <td>Harrier</td>\n",
       "      <td>SUV</td>\n",
       "      <td>5 Seater</td>\n",
       "      <td>Pure Plus S</td>\n",
       "      <td>₹22.14 L</td>\n",
       "      <td>Diesel</td>\n",
       "      <td>Manual</td>\n",
       "      <td>Available in 2 colors</td>\n",
       "      <td>Delhi</td>\n",
       "    </tr>\n",
       "    <tr>\n",
       "      <th>5</th>\n",
       "      <td>Tata</td>\n",
       "      <td>Punch EV</td>\n",
       "      <td>SUV</td>\n",
       "      <td>5 Seater</td>\n",
       "      <td>Adventure LR 3.3</td>\n",
       "      <td>₹13.65 L</td>\n",
       "      <td>Electric</td>\n",
       "      <td>Automatic</td>\n",
       "      <td>Available in 4 colors</td>\n",
       "      <td>Delhi</td>\n",
       "    </tr>\n",
       "    <tr>\n",
       "      <th>6</th>\n",
       "      <td>Tata</td>\n",
       "      <td>Safari</td>\n",
       "      <td>SUV</td>\n",
       "      <td>7 Seater</td>\n",
       "      <td>Smart</td>\n",
       "      <td>₹18.37 L</td>\n",
       "      <td>Diesel</td>\n",
       "      <td>Manual</td>\n",
       "      <td>Available in 2 colors</td>\n",
       "      <td>Delhi</td>\n",
       "    </tr>\n",
       "    <tr>\n",
       "      <th>7</th>\n",
       "      <td>Tata</td>\n",
       "      <td>Curvv</td>\n",
       "      <td>SUV</td>\n",
       "      <td>5 Seater</td>\n",
       "      <td>1.2 Pure Plus</td>\n",
       "      <td>₹13.12 L</td>\n",
       "      <td>Petrol</td>\n",
       "      <td>Manual</td>\n",
       "      <td>Available in 4 colors</td>\n",
       "      <td>Delhi</td>\n",
       "    </tr>\n",
       "    <tr>\n",
       "      <th>8</th>\n",
       "      <td>Tata</td>\n",
       "      <td>Tigor</td>\n",
       "      <td>Sedan</td>\n",
       "      <td>5 Seater</td>\n",
       "      <td>XM</td>\n",
       "      <td>₹6.69 L</td>\n",
       "      <td>Petrol</td>\n",
       "      <td>Manual</td>\n",
       "      <td>Available in 2 colors</td>\n",
       "      <td>Delhi</td>\n",
       "    </tr>\n",
       "    <tr>\n",
       "      <th>9</th>\n",
       "      <td>Tata</td>\n",
       "      <td>Tiago EV</td>\n",
       "      <td>Hatchback</td>\n",
       "      <td>5 Seater</td>\n",
       "      <td>XT LR</td>\n",
       "      <td>₹10.93 L</td>\n",
       "      <td>Electric</td>\n",
       "      <td>Automatic</td>\n",
       "      <td>Available in 6 colors</td>\n",
       "      <td>Delhi</td>\n",
       "    </tr>\n",
       "    <tr>\n",
       "      <th>10</th>\n",
       "      <td>Tata</td>\n",
       "      <td>Tiago NRG</td>\n",
       "      <td>Hatchback</td>\n",
       "      <td>5 Seater</td>\n",
       "      <td>XZ</td>\n",
       "      <td>₹8.30 L</td>\n",
       "      <td>Petrol</td>\n",
       "      <td>Manual</td>\n",
       "      <td>Available in 4 colors</td>\n",
       "      <td>Delhi</td>\n",
       "    </tr>\n",
       "    <tr>\n",
       "      <th>11</th>\n",
       "      <td>Tata</td>\n",
       "      <td>Tiago</td>\n",
       "      <td>Hatchback</td>\n",
       "      <td>5 Seater</td>\n",
       "      <td>XE</td>\n",
       "      <td>₹5.62 L</td>\n",
       "      <td>Petrol</td>\n",
       "      <td>Manual</td>\n",
       "      <td>Available in 2 colors</td>\n",
       "      <td>Delhi</td>\n",
       "    </tr>\n",
       "    <tr>\n",
       "      <th>12</th>\n",
       "      <td>Tata</td>\n",
       "      <td>Altroz</td>\n",
       "      <td>Hatchback</td>\n",
       "      <td>5 Seater</td>\n",
       "      <td>1.2 Smart</td>\n",
       "      <td>₹7.85 L</td>\n",
       "      <td>Petrol</td>\n",
       "      <td>Manual</td>\n",
       "      <td>Available in 5 colors</td>\n",
       "      <td>Delhi</td>\n",
       "    </tr>\n",
       "    <tr>\n",
       "      <th>13</th>\n",
       "      <td>Tata</td>\n",
       "      <td>Harrier EV</td>\n",
       "      <td>SUV</td>\n",
       "      <td>5 Seater</td>\n",
       "      <td>Adventure 65 ACFC</td>\n",
       "      <td>₹23.16 L</td>\n",
       "      <td>Electric</td>\n",
       "      <td>Automatic</td>\n",
       "      <td>Available in 2 colors</td>\n",
       "      <td>Delhi</td>\n",
       "    </tr>\n",
       "    <tr>\n",
       "      <th>14</th>\n",
       "      <td>Tata</td>\n",
       "      <td>Harrier (2020-2023)</td>\n",
       "      <td>SUV</td>\n",
       "      <td>5 Seater</td>\n",
       "      <td>2.0 XE</td>\n",
       "      <td>₹18.23 L</td>\n",
       "      <td>Diesel</td>\n",
       "      <td>Manual</td>\n",
       "      <td>Available in 1 color</td>\n",
       "      <td>Delhi</td>\n",
       "    </tr>\n",
       "    <tr>\n",
       "      <th>15</th>\n",
       "      <td>Tata</td>\n",
       "      <td>Nexon EV Max (2022-2023)</td>\n",
       "      <td>SUV</td>\n",
       "      <td>5 Seater</td>\n",
       "      <td>XZ Plus 7.2 KW FC</td>\n",
       "      <td>₹19.06 L</td>\n",
       "      <td>Electric</td>\n",
       "      <td>Automatic</td>\n",
       "      <td>Available in 3 colors</td>\n",
       "      <td>Delhi</td>\n",
       "    </tr>\n",
       "  </tbody>\n",
       "</table>\n",
       "</div>"
      ],
      "text/plain": [
       "   brand                     model  body_type model_seat      model_variant  \\\n",
       "0   Tata                     Punch        SUV   5 Seater               Pure   \n",
       "1   Tata                     Nexon        SUV   5 Seater     1.2 Smart Plus   \n",
       "2   Tata                  Curvv EV        SUV   5 Seater    Accomplished 55   \n",
       "3   Tata                  Nexon EV        SUV   5 Seater  Empowered Plus 45   \n",
       "4   Tata                   Harrier        SUV   5 Seater        Pure Plus S   \n",
       "5   Tata                  Punch EV        SUV   5 Seater   Adventure LR 3.3   \n",
       "6   Tata                    Safari        SUV   7 Seater              Smart   \n",
       "7   Tata                     Curvv        SUV   5 Seater      1.2 Pure Plus   \n",
       "8   Tata                     Tigor      Sedan   5 Seater                 XM   \n",
       "9   Tata                  Tiago EV  Hatchback   5 Seater              XT LR   \n",
       "10  Tata                 Tiago NRG  Hatchback   5 Seater                 XZ   \n",
       "11  Tata                     Tiago  Hatchback   5 Seater                 XE   \n",
       "12  Tata                    Altroz  Hatchback   5 Seater          1.2 Smart   \n",
       "13  Tata                Harrier EV        SUV   5 Seater  Adventure 65 ACFC   \n",
       "14  Tata       Harrier (2020-2023)        SUV   5 Seater             2.0 XE   \n",
       "15  Tata  Nexon EV Max (2022-2023)        SUV   5 Seater  XZ Plus 7.2 KW FC   \n",
       "\n",
       "       price fuel_type transmission_type        colour_variants location  \n",
       "0    ₹6.71 L    Petrol            Manual  Available in 2 colors    Delhi  \n",
       "1   ₹10.02 L    Petrol            Manual  Available in 4 colors    Delhi  \n",
       "2   ₹20.28 L  Electric         Automatic  Available in 4 colors    Delhi  \n",
       "3   ₹17.94 L  Electric         Automatic  Available in 4 colors    Delhi  \n",
       "4   ₹22.14 L    Diesel            Manual  Available in 2 colors    Delhi  \n",
       "5   ₹13.65 L  Electric         Automatic  Available in 4 colors    Delhi  \n",
       "6   ₹18.37 L    Diesel            Manual  Available in 2 colors    Delhi  \n",
       "7   ₹13.12 L    Petrol            Manual  Available in 4 colors    Delhi  \n",
       "8    ₹6.69 L    Petrol            Manual  Available in 2 colors    Delhi  \n",
       "9   ₹10.93 L  Electric         Automatic  Available in 6 colors    Delhi  \n",
       "10   ₹8.30 L    Petrol            Manual  Available in 4 colors    Delhi  \n",
       "11   ₹5.62 L    Petrol            Manual  Available in 2 colors    Delhi  \n",
       "12   ₹7.85 L    Petrol            Manual  Available in 5 colors    Delhi  \n",
       "13  ₹23.16 L  Electric         Automatic  Available in 2 colors    Delhi  \n",
       "14  ₹18.23 L    Diesel            Manual   Available in 1 color    Delhi  \n",
       "15  ₹19.06 L  Electric         Automatic  Available in 3 colors    Delhi  "
      ]
     },
     "execution_count": 34,
     "metadata": {},
     "output_type": "execute_result"
    }
   ],
   "source": [
    "car_list_df = pd.DataFrame.from_dict(car_data)\n",
    "car_list_df"
   ]
  },
  {
   "cell_type": "markdown",
   "id": "c73a449a",
   "metadata": {},
   "source": [
    "## Save the data to a csv file:"
   ]
  },
  {
   "cell_type": "code",
   "execution_count": 13,
   "id": "7455cc77",
   "metadata": {},
   "outputs": [],
   "source": [
    "car_list_df.to_csv('output_ipynb.csv', index=False)"
   ]
  }
 ],
 "metadata": {
  "kernelspec": {
   "display_name": "Python 3 (ipykernel)",
   "language": "python",
   "name": "python3"
  },
  "language_info": {
   "codemirror_mode": {
    "name": "ipython",
    "version": 3
   },
   "file_extension": ".py",
   "mimetype": "text/x-python",
   "name": "python",
   "nbconvert_exporter": "python",
   "pygments_lexer": "ipython3",
   "version": "3.10.14"
  }
 },
 "nbformat": 4,
 "nbformat_minor": 5
}
